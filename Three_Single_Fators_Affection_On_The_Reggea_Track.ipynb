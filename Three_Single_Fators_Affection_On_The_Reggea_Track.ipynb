{
 "cells": [
  {
   "cell_type": "code",
   "execution_count": 1,
   "id": "e153b8e9",
   "metadata": {},
   "outputs": [],
   "source": [
    "import numpy as np\n",
    "import pandas as pd\n",
    "from MP3NoiseEvalClass import MP3NoiseEvalClass\n",
    "import NoiseEvalUtil as NEUtil\n",
    "import argparse"
   ]
  },
  {
   "cell_type": "code",
   "execution_count": 2,
   "id": "51629730",
   "metadata": {},
   "outputs": [],
   "source": [
    "import warnings\n",
    "warnings.filterwarnings(\"ignore\", \"is_categorical_dtype\")\n",
    "warnings.filterwarnings(\"ignore\", \"use_inf_as_na\")\n",
    "warnings.warn(\"Possible clipped samples in output.\")"
   ]
  },
  {
   "cell_type": "code",
   "execution_count": 3,
   "id": "1709bc62",
   "metadata": {},
   "outputs": [
    {
     "name": "stdout",
     "output_type": "stream",
     "text": [
      "Audio duration orginal is 17.46267573696145 seconds, now is the 8.0, the audio changing to the MONO\n"
     ]
    },
    {
     "name": "stderr",
     "output_type": "stream",
     "text": [
      "/root/anaconda3/lib/python3.11/site-packages/pyloudnorm/normalize.py:62: UserWarning: Possible clipped samples in output.\n",
      "  warnings.warn(\"Possible clipped samples in output.\")\n"
     ]
    },
    {
     "data": {
      "text/plain": [
       "'/home/codecrack/Jnotebook/44k1/Reggea/Mixing_Result/Reggea_Reference.wav'"
      ]
     },
     "execution_count": 3,
     "metadata": {},
     "output_type": "execute_result"
    }
   ],
   "source": [
    "Mixing_Path = '/home/codecrack/Jnotebook/44k1/Reggea'\n",
    "Noise_Generator_MP3 = MP3NoiseEvalClass(filename=\"mixture.wav\", foldpath=Mixing_Path, TrackType = NEUtil.MixingType.File)\n",
    "Referece_File = Noise_Generator_MP3.TestNoisedOnlyFile([0,0.0,0.0],\"Reggea_Reference.wav\")\n",
    "Referece_File"
   ]
  },
  {
   "cell_type": "code",
   "execution_count": 4,
   "id": "2b0b4f0d",
   "metadata": {},
   "outputs": [
    {
     "name": "stdout",
     "output_type": "stream",
     "text": [
      "PEAQ Result in no inference is -0.267\n"
     ]
    }
   ],
   "source": [
    "score = Noise_Generator_MP3.MeasurePEAQOutputsVsRef(Referece_File,64,Referece_File)\n",
    "print(f\"PEAQ Result in no inference is {score}\")"
   ]
  },
  {
   "cell_type": "code",
   "execution_count": 5,
   "id": "1ddbb083",
   "metadata": {
    "scrolled": true
   },
   "outputs": [
    {
     "name": "stdout",
     "output_type": "stream",
     "text": [
      "WhiteNoise is 1dB. The PEAQ value is -3.860\n",
      "WhiteNoise is 2dB. The PEAQ value is -3.859\n"
     ]
    },
    {
     "name": "stderr",
     "output_type": "stream",
     "text": [
      "/root/anaconda3/lib/python3.11/site-packages/pyloudnorm/normalize.py:62: UserWarning: Possible clipped samples in output.\n",
      "  warnings.warn(\"Possible clipped samples in output.\")\n",
      "/root/anaconda3/lib/python3.11/site-packages/pyloudnorm/normalize.py:62: UserWarning: Possible clipped samples in output.\n",
      "  warnings.warn(\"Possible clipped samples in output.\")\n"
     ]
    },
    {
     "name": "stdout",
     "output_type": "stream",
     "text": [
      "WhiteNoise is 3dB. The PEAQ value is -3.864\n",
      "WhiteNoise is 4dB. The PEAQ value is -3.861\n"
     ]
    },
    {
     "name": "stderr",
     "output_type": "stream",
     "text": [
      "/root/anaconda3/lib/python3.11/site-packages/pyloudnorm/normalize.py:62: UserWarning: Possible clipped samples in output.\n",
      "  warnings.warn(\"Possible clipped samples in output.\")\n",
      "/root/anaconda3/lib/python3.11/site-packages/pyloudnorm/normalize.py:62: UserWarning: Possible clipped samples in output.\n",
      "  warnings.warn(\"Possible clipped samples in output.\")\n"
     ]
    },
    {
     "name": "stdout",
     "output_type": "stream",
     "text": [
      "WhiteNoise is 5dB. The PEAQ value is -3.860\n",
      "WhiteNoise is 6dB. The PEAQ value is -3.853\n"
     ]
    },
    {
     "name": "stderr",
     "output_type": "stream",
     "text": [
      "/root/anaconda3/lib/python3.11/site-packages/pyloudnorm/normalize.py:62: UserWarning: Possible clipped samples in output.\n",
      "  warnings.warn(\"Possible clipped samples in output.\")\n",
      "/root/anaconda3/lib/python3.11/site-packages/pyloudnorm/normalize.py:62: UserWarning: Possible clipped samples in output.\n",
      "  warnings.warn(\"Possible clipped samples in output.\")\n"
     ]
    },
    {
     "name": "stdout",
     "output_type": "stream",
     "text": [
      "WhiteNoise is 7dB. The PEAQ value is -3.850\n",
      "WhiteNoise is 8dB. The PEAQ value is -3.846\n"
     ]
    },
    {
     "name": "stderr",
     "output_type": "stream",
     "text": [
      "/root/anaconda3/lib/python3.11/site-packages/pyloudnorm/normalize.py:62: UserWarning: Possible clipped samples in output.\n",
      "  warnings.warn(\"Possible clipped samples in output.\")\n",
      "/root/anaconda3/lib/python3.11/site-packages/pyloudnorm/normalize.py:62: UserWarning: Possible clipped samples in output.\n",
      "  warnings.warn(\"Possible clipped samples in output.\")\n"
     ]
    },
    {
     "name": "stdout",
     "output_type": "stream",
     "text": [
      "WhiteNoise is 9dB. The PEAQ value is -3.847\n",
      "WhiteNoise is 10dB. The PEAQ value is -3.844\n"
     ]
    },
    {
     "name": "stderr",
     "output_type": "stream",
     "text": [
      "/root/anaconda3/lib/python3.11/site-packages/pyloudnorm/normalize.py:62: UserWarning: Possible clipped samples in output.\n",
      "  warnings.warn(\"Possible clipped samples in output.\")\n",
      "/root/anaconda3/lib/python3.11/site-packages/pyloudnorm/normalize.py:62: UserWarning: Possible clipped samples in output.\n",
      "  warnings.warn(\"Possible clipped samples in output.\")\n"
     ]
    },
    {
     "name": "stdout",
     "output_type": "stream",
     "text": [
      "WhiteNoise is 11dB. The PEAQ value is -3.846\n",
      "WhiteNoise is 12dB. The PEAQ value is -3.830\n"
     ]
    },
    {
     "name": "stderr",
     "output_type": "stream",
     "text": [
      "/root/anaconda3/lib/python3.11/site-packages/pyloudnorm/normalize.py:62: UserWarning: Possible clipped samples in output.\n",
      "  warnings.warn(\"Possible clipped samples in output.\")\n",
      "/root/anaconda3/lib/python3.11/site-packages/pyloudnorm/normalize.py:62: UserWarning: Possible clipped samples in output.\n",
      "  warnings.warn(\"Possible clipped samples in output.\")\n"
     ]
    },
    {
     "name": "stdout",
     "output_type": "stream",
     "text": [
      "WhiteNoise is 13dB. The PEAQ value is -3.822\n",
      "WhiteNoise is 14dB. The PEAQ value is -3.810\n"
     ]
    },
    {
     "name": "stderr",
     "output_type": "stream",
     "text": [
      "/root/anaconda3/lib/python3.11/site-packages/pyloudnorm/normalize.py:62: UserWarning: Possible clipped samples in output.\n",
      "  warnings.warn(\"Possible clipped samples in output.\")\n",
      "/root/anaconda3/lib/python3.11/site-packages/pyloudnorm/normalize.py:62: UserWarning: Possible clipped samples in output.\n",
      "  warnings.warn(\"Possible clipped samples in output.\")\n"
     ]
    },
    {
     "name": "stdout",
     "output_type": "stream",
     "text": [
      "WhiteNoise is 15dB. The PEAQ value is -3.798\n",
      "WhiteNoise is 16dB. The PEAQ value is -3.786\n"
     ]
    },
    {
     "name": "stderr",
     "output_type": "stream",
     "text": [
      "/root/anaconda3/lib/python3.11/site-packages/pyloudnorm/normalize.py:62: UserWarning: Possible clipped samples in output.\n",
      "  warnings.warn(\"Possible clipped samples in output.\")\n",
      "/root/anaconda3/lib/python3.11/site-packages/pyloudnorm/normalize.py:62: UserWarning: Possible clipped samples in output.\n",
      "  warnings.warn(\"Possible clipped samples in output.\")\n"
     ]
    },
    {
     "name": "stdout",
     "output_type": "stream",
     "text": [
      "WhiteNoise is 17dB. The PEAQ value is -3.766\n",
      "WhiteNoise is 18dB. The PEAQ value is -3.752\n"
     ]
    },
    {
     "name": "stderr",
     "output_type": "stream",
     "text": [
      "/root/anaconda3/lib/python3.11/site-packages/pyloudnorm/normalize.py:62: UserWarning: Possible clipped samples in output.\n",
      "  warnings.warn(\"Possible clipped samples in output.\")\n",
      "/root/anaconda3/lib/python3.11/site-packages/pyloudnorm/normalize.py:62: UserWarning: Possible clipped samples in output.\n",
      "  warnings.warn(\"Possible clipped samples in output.\")\n"
     ]
    },
    {
     "name": "stdout",
     "output_type": "stream",
     "text": [
      "WhiteNoise is 19dB. The PEAQ value is -3.716\n",
      "WhiteNoise is 20dB. The PEAQ value is -3.699\n"
     ]
    },
    {
     "name": "stderr",
     "output_type": "stream",
     "text": [
      "/root/anaconda3/lib/python3.11/site-packages/pyloudnorm/normalize.py:62: UserWarning: Possible clipped samples in output.\n",
      "  warnings.warn(\"Possible clipped samples in output.\")\n",
      "/root/anaconda3/lib/python3.11/site-packages/pyloudnorm/normalize.py:62: UserWarning: Possible clipped samples in output.\n",
      "  warnings.warn(\"Possible clipped samples in output.\")\n"
     ]
    },
    {
     "name": "stdout",
     "output_type": "stream",
     "text": [
      "WhiteNoise is 21dB. The PEAQ value is -3.659\n",
      "WhiteNoise is 22dB. The PEAQ value is -3.609\n"
     ]
    },
    {
     "name": "stderr",
     "output_type": "stream",
     "text": [
      "/root/anaconda3/lib/python3.11/site-packages/pyloudnorm/normalize.py:62: UserWarning: Possible clipped samples in output.\n",
      "  warnings.warn(\"Possible clipped samples in output.\")\n",
      "/root/anaconda3/lib/python3.11/site-packages/pyloudnorm/normalize.py:62: UserWarning: Possible clipped samples in output.\n",
      "  warnings.warn(\"Possible clipped samples in output.\")\n"
     ]
    },
    {
     "name": "stdout",
     "output_type": "stream",
     "text": [
      "WhiteNoise is 23dB. The PEAQ value is -3.560\n",
      "WhiteNoise is 24dB. The PEAQ value is -3.476\n"
     ]
    },
    {
     "name": "stderr",
     "output_type": "stream",
     "text": [
      "/root/anaconda3/lib/python3.11/site-packages/pyloudnorm/normalize.py:62: UserWarning: Possible clipped samples in output.\n",
      "  warnings.warn(\"Possible clipped samples in output.\")\n",
      "/root/anaconda3/lib/python3.11/site-packages/pyloudnorm/normalize.py:62: UserWarning: Possible clipped samples in output.\n",
      "  warnings.warn(\"Possible clipped samples in output.\")\n"
     ]
    },
    {
     "name": "stdout",
     "output_type": "stream",
     "text": [
      "WhiteNoise is 25dB. The PEAQ value is -3.445\n",
      "WhiteNoise is 26dB. The PEAQ value is -3.370\n"
     ]
    },
    {
     "name": "stderr",
     "output_type": "stream",
     "text": [
      "/root/anaconda3/lib/python3.11/site-packages/pyloudnorm/normalize.py:62: UserWarning: Possible clipped samples in output.\n",
      "  warnings.warn(\"Possible clipped samples in output.\")\n",
      "/root/anaconda3/lib/python3.11/site-packages/pyloudnorm/normalize.py:62: UserWarning: Possible clipped samples in output.\n",
      "  warnings.warn(\"Possible clipped samples in output.\")\n"
     ]
    },
    {
     "name": "stdout",
     "output_type": "stream",
     "text": [
      "WhiteNoise is 27dB. The PEAQ value is -3.275\n",
      "WhiteNoise is 28dB. The PEAQ value is -3.202\n"
     ]
    },
    {
     "name": "stderr",
     "output_type": "stream",
     "text": [
      "/root/anaconda3/lib/python3.11/site-packages/pyloudnorm/normalize.py:62: UserWarning: Possible clipped samples in output.\n",
      "  warnings.warn(\"Possible clipped samples in output.\")\n",
      "/root/anaconda3/lib/python3.11/site-packages/pyloudnorm/normalize.py:62: UserWarning: Possible clipped samples in output.\n",
      "  warnings.warn(\"Possible clipped samples in output.\")\n"
     ]
    },
    {
     "name": "stdout",
     "output_type": "stream",
     "text": [
      "WhiteNoise is 29dB. The PEAQ value is -3.104\n",
      "WhiteNoise is 30dB. The PEAQ value is -2.903\n"
     ]
    },
    {
     "name": "stderr",
     "output_type": "stream",
     "text": [
      "/root/anaconda3/lib/python3.11/site-packages/pyloudnorm/normalize.py:62: UserWarning: Possible clipped samples in output.\n",
      "  warnings.warn(\"Possible clipped samples in output.\")\n",
      "/root/anaconda3/lib/python3.11/site-packages/pyloudnorm/normalize.py:62: UserWarning: Possible clipped samples in output.\n",
      "  warnings.warn(\"Possible clipped samples in output.\")\n"
     ]
    },
    {
     "name": "stdout",
     "output_type": "stream",
     "text": [
      "WhiteNoise is 31dB. The PEAQ value is -2.864\n",
      "WhiteNoise is 32dB. The PEAQ value is -2.694\n"
     ]
    },
    {
     "name": "stderr",
     "output_type": "stream",
     "text": [
      "/root/anaconda3/lib/python3.11/site-packages/pyloudnorm/normalize.py:62: UserWarning: Possible clipped samples in output.\n",
      "  warnings.warn(\"Possible clipped samples in output.\")\n",
      "/root/anaconda3/lib/python3.11/site-packages/pyloudnorm/normalize.py:62: UserWarning: Possible clipped samples in output.\n",
      "  warnings.warn(\"Possible clipped samples in output.\")\n"
     ]
    },
    {
     "name": "stdout",
     "output_type": "stream",
     "text": [
      "WhiteNoise is 33dB. The PEAQ value is -2.572\n",
      "WhiteNoise is 34dB. The PEAQ value is -2.443\n"
     ]
    },
    {
     "name": "stderr",
     "output_type": "stream",
     "text": [
      "/root/anaconda3/lib/python3.11/site-packages/pyloudnorm/normalize.py:62: UserWarning: Possible clipped samples in output.\n",
      "  warnings.warn(\"Possible clipped samples in output.\")\n",
      "/root/anaconda3/lib/python3.11/site-packages/pyloudnorm/normalize.py:62: UserWarning: Possible clipped samples in output.\n",
      "  warnings.warn(\"Possible clipped samples in output.\")\n"
     ]
    },
    {
     "name": "stdout",
     "output_type": "stream",
     "text": [
      "WhiteNoise is 35dB. The PEAQ value is -2.240\n",
      "WhiteNoise is 36dB. The PEAQ value is -2.106\n"
     ]
    },
    {
     "name": "stderr",
     "output_type": "stream",
     "text": [
      "/root/anaconda3/lib/python3.11/site-packages/pyloudnorm/normalize.py:62: UserWarning: Possible clipped samples in output.\n",
      "  warnings.warn(\"Possible clipped samples in output.\")\n",
      "/root/anaconda3/lib/python3.11/site-packages/pyloudnorm/normalize.py:62: UserWarning: Possible clipped samples in output.\n",
      "  warnings.warn(\"Possible clipped samples in output.\")\n"
     ]
    },
    {
     "name": "stdout",
     "output_type": "stream",
     "text": [
      "WhiteNoise is 37dB. The PEAQ value is -2.057\n",
      "WhiteNoise is 38dB. The PEAQ value is -1.872\n"
     ]
    },
    {
     "name": "stderr",
     "output_type": "stream",
     "text": [
      "/root/anaconda3/lib/python3.11/site-packages/pyloudnorm/normalize.py:62: UserWarning: Possible clipped samples in output.\n",
      "  warnings.warn(\"Possible clipped samples in output.\")\n",
      "/root/anaconda3/lib/python3.11/site-packages/pyloudnorm/normalize.py:62: UserWarning: Possible clipped samples in output.\n",
      "  warnings.warn(\"Possible clipped samples in output.\")\n"
     ]
    },
    {
     "name": "stdout",
     "output_type": "stream",
     "text": [
      "WhiteNoise is 39dB. The PEAQ value is -1.678\n",
      "WhiteNoise is 40dB. The PEAQ value is -1.648\n"
     ]
    },
    {
     "name": "stderr",
     "output_type": "stream",
     "text": [
      "/root/anaconda3/lib/python3.11/site-packages/pyloudnorm/normalize.py:62: UserWarning: Possible clipped samples in output.\n",
      "  warnings.warn(\"Possible clipped samples in output.\")\n",
      "/root/anaconda3/lib/python3.11/site-packages/pyloudnorm/normalize.py:62: UserWarning: Possible clipped samples in output.\n",
      "  warnings.warn(\"Possible clipped samples in output.\")\n"
     ]
    },
    {
     "name": "stdout",
     "output_type": "stream",
     "text": [
      "WhiteNoise is 41dB. The PEAQ value is -1.494\n",
      "WhiteNoise is 42dB. The PEAQ value is -1.346\n"
     ]
    },
    {
     "name": "stderr",
     "output_type": "stream",
     "text": [
      "/root/anaconda3/lib/python3.11/site-packages/pyloudnorm/normalize.py:62: UserWarning: Possible clipped samples in output.\n",
      "  warnings.warn(\"Possible clipped samples in output.\")\n",
      "/root/anaconda3/lib/python3.11/site-packages/pyloudnorm/normalize.py:62: UserWarning: Possible clipped samples in output.\n",
      "  warnings.warn(\"Possible clipped samples in output.\")\n"
     ]
    },
    {
     "name": "stdout",
     "output_type": "stream",
     "text": [
      "WhiteNoise is 43dB. The PEAQ value is -1.259\n",
      "WhiteNoise is 44dB. The PEAQ value is -1.173\n"
     ]
    },
    {
     "name": "stderr",
     "output_type": "stream",
     "text": [
      "/root/anaconda3/lib/python3.11/site-packages/pyloudnorm/normalize.py:62: UserWarning: Possible clipped samples in output.\n",
      "  warnings.warn(\"Possible clipped samples in output.\")\n",
      "/root/anaconda3/lib/python3.11/site-packages/pyloudnorm/normalize.py:62: UserWarning: Possible clipped samples in output.\n",
      "  warnings.warn(\"Possible clipped samples in output.\")\n"
     ]
    },
    {
     "name": "stdout",
     "output_type": "stream",
     "text": [
      "WhiteNoise is 45dB. The PEAQ value is -1.062\n",
      "WhiteNoise is 46dB. The PEAQ value is -1.034\n"
     ]
    },
    {
     "name": "stderr",
     "output_type": "stream",
     "text": [
      "/root/anaconda3/lib/python3.11/site-packages/pyloudnorm/normalize.py:62: UserWarning: Possible clipped samples in output.\n",
      "  warnings.warn(\"Possible clipped samples in output.\")\n",
      "/root/anaconda3/lib/python3.11/site-packages/pyloudnorm/normalize.py:62: UserWarning: Possible clipped samples in output.\n",
      "  warnings.warn(\"Possible clipped samples in output.\")\n"
     ]
    },
    {
     "name": "stdout",
     "output_type": "stream",
     "text": [
      "WhiteNoise is 47dB. The PEAQ value is -0.900\n",
      "WhiteNoise is 48dB. The PEAQ value is -0.819\n"
     ]
    },
    {
     "name": "stderr",
     "output_type": "stream",
     "text": [
      "/root/anaconda3/lib/python3.11/site-packages/pyloudnorm/normalize.py:62: UserWarning: Possible clipped samples in output.\n",
      "  warnings.warn(\"Possible clipped samples in output.\")\n",
      "/root/anaconda3/lib/python3.11/site-packages/pyloudnorm/normalize.py:62: UserWarning: Possible clipped samples in output.\n",
      "  warnings.warn(\"Possible clipped samples in output.\")\n"
     ]
    },
    {
     "name": "stdout",
     "output_type": "stream",
     "text": [
      "WhiteNoise is 49dB. The PEAQ value is -0.787\n",
      "WhiteNoise is 50dB. The PEAQ value is -0.677\n"
     ]
    },
    {
     "name": "stderr",
     "output_type": "stream",
     "text": [
      "/root/anaconda3/lib/python3.11/site-packages/pyloudnorm/normalize.py:62: UserWarning: Possible clipped samples in output.\n",
      "  warnings.warn(\"Possible clipped samples in output.\")\n",
      "/root/anaconda3/lib/python3.11/site-packages/pyloudnorm/normalize.py:62: UserWarning: Possible clipped samples in output.\n",
      "  warnings.warn(\"Possible clipped samples in output.\")\n"
     ]
    },
    {
     "name": "stdout",
     "output_type": "stream",
     "text": [
      "WhiteNoise is 51dB. The PEAQ value is -0.668\n",
      "WhiteNoise is 52dB. The PEAQ value is -0.615\n"
     ]
    },
    {
     "name": "stderr",
     "output_type": "stream",
     "text": [
      "/root/anaconda3/lib/python3.11/site-packages/pyloudnorm/normalize.py:62: UserWarning: Possible clipped samples in output.\n",
      "  warnings.warn(\"Possible clipped samples in output.\")\n",
      "/root/anaconda3/lib/python3.11/site-packages/pyloudnorm/normalize.py:62: UserWarning: Possible clipped samples in output.\n",
      "  warnings.warn(\"Possible clipped samples in output.\")\n"
     ]
    },
    {
     "name": "stdout",
     "output_type": "stream",
     "text": [
      "WhiteNoise is 53dB. The PEAQ value is -0.569\n",
      "WhiteNoise is 54dB. The PEAQ value is -0.527\n"
     ]
    },
    {
     "name": "stderr",
     "output_type": "stream",
     "text": [
      "/root/anaconda3/lib/python3.11/site-packages/pyloudnorm/normalize.py:62: UserWarning: Possible clipped samples in output.\n",
      "  warnings.warn(\"Possible clipped samples in output.\")\n",
      "/root/anaconda3/lib/python3.11/site-packages/pyloudnorm/normalize.py:62: UserWarning: Possible clipped samples in output.\n",
      "  warnings.warn(\"Possible clipped samples in output.\")\n"
     ]
    },
    {
     "name": "stdout",
     "output_type": "stream",
     "text": [
      "WhiteNoise is 55dB. The PEAQ value is -0.484\n",
      "WhiteNoise is 56dB. The PEAQ value is -0.455\n"
     ]
    },
    {
     "name": "stderr",
     "output_type": "stream",
     "text": [
      "/root/anaconda3/lib/python3.11/site-packages/pyloudnorm/normalize.py:62: UserWarning: Possible clipped samples in output.\n",
      "  warnings.warn(\"Possible clipped samples in output.\")\n",
      "/root/anaconda3/lib/python3.11/site-packages/pyloudnorm/normalize.py:62: UserWarning: Possible clipped samples in output.\n",
      "  warnings.warn(\"Possible clipped samples in output.\")\n"
     ]
    },
    {
     "name": "stdout",
     "output_type": "stream",
     "text": [
      "WhiteNoise is 57dB. The PEAQ value is -0.412\n",
      "WhiteNoise is 58dB. The PEAQ value is -0.385\n"
     ]
    },
    {
     "name": "stderr",
     "output_type": "stream",
     "text": [
      "/root/anaconda3/lib/python3.11/site-packages/pyloudnorm/normalize.py:62: UserWarning: Possible clipped samples in output.\n",
      "  warnings.warn(\"Possible clipped samples in output.\")\n",
      "/root/anaconda3/lib/python3.11/site-packages/pyloudnorm/normalize.py:62: UserWarning: Possible clipped samples in output.\n",
      "  warnings.warn(\"Possible clipped samples in output.\")\n"
     ]
    },
    {
     "name": "stdout",
     "output_type": "stream",
     "text": [
      "WhiteNoise is 59dB. The PEAQ value is -0.357\n",
      "WhiteNoise is 60dB. The PEAQ value is -0.354\n"
     ]
    },
    {
     "name": "stderr",
     "output_type": "stream",
     "text": [
      "/root/anaconda3/lib/python3.11/site-packages/pyloudnorm/normalize.py:62: UserWarning: Possible clipped samples in output.\n",
      "  warnings.warn(\"Possible clipped samples in output.\")\n",
      "/root/anaconda3/lib/python3.11/site-packages/pyloudnorm/normalize.py:62: UserWarning: Possible clipped samples in output.\n",
      "  warnings.warn(\"Possible clipped samples in output.\")\n"
     ]
    },
    {
     "name": "stdout",
     "output_type": "stream",
     "text": [
      "WhiteNoise is 61dB. The PEAQ value is -0.332\n",
      "WhiteNoise is 62dB. The PEAQ value is -0.318\n"
     ]
    },
    {
     "name": "stderr",
     "output_type": "stream",
     "text": [
      "/root/anaconda3/lib/python3.11/site-packages/pyloudnorm/normalize.py:62: UserWarning: Possible clipped samples in output.\n",
      "  warnings.warn(\"Possible clipped samples in output.\")\n",
      "/root/anaconda3/lib/python3.11/site-packages/pyloudnorm/normalize.py:62: UserWarning: Possible clipped samples in output.\n",
      "  warnings.warn(\"Possible clipped samples in output.\")\n"
     ]
    },
    {
     "name": "stdout",
     "output_type": "stream",
     "text": [
      "WhiteNoise is 63dB. The PEAQ value is -0.308\n",
      "WhiteNoise is 64dB. The PEAQ value is -0.308\n"
     ]
    },
    {
     "name": "stderr",
     "output_type": "stream",
     "text": [
      "/root/anaconda3/lib/python3.11/site-packages/pyloudnorm/normalize.py:62: UserWarning: Possible clipped samples in output.\n",
      "  warnings.warn(\"Possible clipped samples in output.\")\n",
      "/root/anaconda3/lib/python3.11/site-packages/pyloudnorm/normalize.py:62: UserWarning: Possible clipped samples in output.\n",
      "  warnings.warn(\"Possible clipped samples in output.\")\n"
     ]
    },
    {
     "name": "stdout",
     "output_type": "stream",
     "text": [
      "WhiteNoise is 65dB. The PEAQ value is -0.290\n",
      "WhiteNoise is 66dB. The PEAQ value is -0.284\n"
     ]
    },
    {
     "name": "stderr",
     "output_type": "stream",
     "text": [
      "/root/anaconda3/lib/python3.11/site-packages/pyloudnorm/normalize.py:62: UserWarning: Possible clipped samples in output.\n",
      "  warnings.warn(\"Possible clipped samples in output.\")\n",
      "/root/anaconda3/lib/python3.11/site-packages/pyloudnorm/normalize.py:62: UserWarning: Possible clipped samples in output.\n",
      "  warnings.warn(\"Possible clipped samples in output.\")\n"
     ]
    },
    {
     "name": "stdout",
     "output_type": "stream",
     "text": [
      "WhiteNoise is 67dB. The PEAQ value is -0.268\n",
      "WhiteNoise is 68dB. The PEAQ value is -0.277\n"
     ]
    },
    {
     "name": "stderr",
     "output_type": "stream",
     "text": [
      "/root/anaconda3/lib/python3.11/site-packages/pyloudnorm/normalize.py:62: UserWarning: Possible clipped samples in output.\n",
      "  warnings.warn(\"Possible clipped samples in output.\")\n",
      "/root/anaconda3/lib/python3.11/site-packages/pyloudnorm/normalize.py:62: UserWarning: Possible clipped samples in output.\n",
      "  warnings.warn(\"Possible clipped samples in output.\")\n"
     ]
    },
    {
     "name": "stdout",
     "output_type": "stream",
     "text": [
      "WhiteNoise is 69dB. The PEAQ value is -0.270\n",
      "WhiteNoise is 70dB. The PEAQ value is -0.268\n"
     ]
    },
    {
     "name": "stderr",
     "output_type": "stream",
     "text": [
      "/root/anaconda3/lib/python3.11/site-packages/pyloudnorm/normalize.py:62: UserWarning: Possible clipped samples in output.\n",
      "  warnings.warn(\"Possible clipped samples in output.\")\n",
      "/root/anaconda3/lib/python3.11/site-packages/pyloudnorm/normalize.py:62: UserWarning: Possible clipped samples in output.\n",
      "  warnings.warn(\"Possible clipped samples in output.\")\n"
     ]
    },
    {
     "name": "stdout",
     "output_type": "stream",
     "text": [
      "WhiteNoise is 71dB. The PEAQ value is -0.270\n",
      "WhiteNoise is 72dB. The PEAQ value is -0.267\n"
     ]
    },
    {
     "name": "stderr",
     "output_type": "stream",
     "text": [
      "/root/anaconda3/lib/python3.11/site-packages/pyloudnorm/normalize.py:62: UserWarning: Possible clipped samples in output.\n",
      "  warnings.warn(\"Possible clipped samples in output.\")\n",
      "/root/anaconda3/lib/python3.11/site-packages/pyloudnorm/normalize.py:62: UserWarning: Possible clipped samples in output.\n",
      "  warnings.warn(\"Possible clipped samples in output.\")\n"
     ]
    },
    {
     "name": "stdout",
     "output_type": "stream",
     "text": [
      "WhiteNoise is 73dB. The PEAQ value is -0.270\n",
      "WhiteNoise is 74dB. The PEAQ value is -0.271\n"
     ]
    },
    {
     "name": "stderr",
     "output_type": "stream",
     "text": [
      "/root/anaconda3/lib/python3.11/site-packages/pyloudnorm/normalize.py:62: UserWarning: Possible clipped samples in output.\n",
      "  warnings.warn(\"Possible clipped samples in output.\")\n",
      "/root/anaconda3/lib/python3.11/site-packages/pyloudnorm/normalize.py:62: UserWarning: Possible clipped samples in output.\n",
      "  warnings.warn(\"Possible clipped samples in output.\")\n"
     ]
    },
    {
     "name": "stdout",
     "output_type": "stream",
     "text": [
      "WhiteNoise is 75dB. The PEAQ value is -0.265\n",
      "WhiteNoise is 76dB. The PEAQ value is -0.275\n"
     ]
    },
    {
     "name": "stderr",
     "output_type": "stream",
     "text": [
      "/root/anaconda3/lib/python3.11/site-packages/pyloudnorm/normalize.py:62: UserWarning: Possible clipped samples in output.\n",
      "  warnings.warn(\"Possible clipped samples in output.\")\n",
      "/root/anaconda3/lib/python3.11/site-packages/pyloudnorm/normalize.py:62: UserWarning: Possible clipped samples in output.\n",
      "  warnings.warn(\"Possible clipped samples in output.\")\n"
     ]
    },
    {
     "name": "stdout",
     "output_type": "stream",
     "text": [
      "WhiteNoise is 77dB. The PEAQ value is -0.272\n",
      "WhiteNoise is 78dB. The PEAQ value is -0.275\n"
     ]
    },
    {
     "name": "stderr",
     "output_type": "stream",
     "text": [
      "/root/anaconda3/lib/python3.11/site-packages/pyloudnorm/normalize.py:62: UserWarning: Possible clipped samples in output.\n",
      "  warnings.warn(\"Possible clipped samples in output.\")\n",
      "/root/anaconda3/lib/python3.11/site-packages/pyloudnorm/normalize.py:62: UserWarning: Possible clipped samples in output.\n",
      "  warnings.warn(\"Possible clipped samples in output.\")\n"
     ]
    },
    {
     "name": "stdout",
     "output_type": "stream",
     "text": [
      "WhiteNoise is 79dB. The PEAQ value is -0.272\n",
      "WhiteNoise is 80dB. The PEAQ value is -0.269\n"
     ]
    },
    {
     "name": "stderr",
     "output_type": "stream",
     "text": [
      "/root/anaconda3/lib/python3.11/site-packages/pyloudnorm/normalize.py:62: UserWarning: Possible clipped samples in output.\n",
      "  warnings.warn(\"Possible clipped samples in output.\")\n",
      "/root/anaconda3/lib/python3.11/site-packages/pyloudnorm/normalize.py:62: UserWarning: Possible clipped samples in output.\n",
      "  warnings.warn(\"Possible clipped samples in output.\")\n"
     ]
    },
    {
     "name": "stdout",
     "output_type": "stream",
     "text": [
      "WhiteNoise is 81dB. The PEAQ value is -0.267\n",
      "WhiteNoise is 82dB. The PEAQ value is -0.272\n"
     ]
    },
    {
     "name": "stderr",
     "output_type": "stream",
     "text": [
      "/root/anaconda3/lib/python3.11/site-packages/pyloudnorm/normalize.py:62: UserWarning: Possible clipped samples in output.\n",
      "  warnings.warn(\"Possible clipped samples in output.\")\n",
      "/root/anaconda3/lib/python3.11/site-packages/pyloudnorm/normalize.py:62: UserWarning: Possible clipped samples in output.\n",
      "  warnings.warn(\"Possible clipped samples in output.\")\n"
     ]
    },
    {
     "name": "stdout",
     "output_type": "stream",
     "text": [
      "WhiteNoise is 83dB. The PEAQ value is -0.268\n",
      "WhiteNoise is 84dB. The PEAQ value is -0.269\n"
     ]
    },
    {
     "name": "stderr",
     "output_type": "stream",
     "text": [
      "/root/anaconda3/lib/python3.11/site-packages/pyloudnorm/normalize.py:62: UserWarning: Possible clipped samples in output.\n",
      "  warnings.warn(\"Possible clipped samples in output.\")\n",
      "/root/anaconda3/lib/python3.11/site-packages/pyloudnorm/normalize.py:62: UserWarning: Possible clipped samples in output.\n",
      "  warnings.warn(\"Possible clipped samples in output.\")\n"
     ]
    },
    {
     "name": "stdout",
     "output_type": "stream",
     "text": [
      "WhiteNoise is 85dB. The PEAQ value is -0.269\n",
      "WhiteNoise is 86dB. The PEAQ value is -0.270\n"
     ]
    },
    {
     "name": "stderr",
     "output_type": "stream",
     "text": [
      "/root/anaconda3/lib/python3.11/site-packages/pyloudnorm/normalize.py:62: UserWarning: Possible clipped samples in output.\n",
      "  warnings.warn(\"Possible clipped samples in output.\")\n",
      "/root/anaconda3/lib/python3.11/site-packages/pyloudnorm/normalize.py:62: UserWarning: Possible clipped samples in output.\n",
      "  warnings.warn(\"Possible clipped samples in output.\")\n"
     ]
    },
    {
     "name": "stdout",
     "output_type": "stream",
     "text": [
      "WhiteNoise is 87dB. The PEAQ value is -0.272\n",
      "WhiteNoise is 88dB. The PEAQ value is -0.263\n"
     ]
    },
    {
     "name": "stderr",
     "output_type": "stream",
     "text": [
      "/root/anaconda3/lib/python3.11/site-packages/pyloudnorm/normalize.py:62: UserWarning: Possible clipped samples in output.\n",
      "  warnings.warn(\"Possible clipped samples in output.\")\n",
      "/root/anaconda3/lib/python3.11/site-packages/pyloudnorm/normalize.py:62: UserWarning: Possible clipped samples in output.\n",
      "  warnings.warn(\"Possible clipped samples in output.\")\n"
     ]
    },
    {
     "name": "stdout",
     "output_type": "stream",
     "text": [
      "WhiteNoise is 89dB. The PEAQ value is -0.269\n",
      "WhiteNoise is 90dB. The PEAQ value is -0.269\n"
     ]
    },
    {
     "name": "stderr",
     "output_type": "stream",
     "text": [
      "/root/anaconda3/lib/python3.11/site-packages/pyloudnorm/normalize.py:62: UserWarning: Possible clipped samples in output.\n",
      "  warnings.warn(\"Possible clipped samples in output.\")\n",
      "/root/anaconda3/lib/python3.11/site-packages/pyloudnorm/normalize.py:62: UserWarning: Possible clipped samples in output.\n",
      "  warnings.warn(\"Possible clipped samples in output.\")\n"
     ]
    },
    {
     "name": "stdout",
     "output_type": "stream",
     "text": [
      "WhiteNoise is 91dB. The PEAQ value is -0.266\n",
      "WhiteNoise is 92dB. The PEAQ value is -0.271\n"
     ]
    },
    {
     "name": "stderr",
     "output_type": "stream",
     "text": [
      "/root/anaconda3/lib/python3.11/site-packages/pyloudnorm/normalize.py:62: UserWarning: Possible clipped samples in output.\n",
      "  warnings.warn(\"Possible clipped samples in output.\")\n",
      "/root/anaconda3/lib/python3.11/site-packages/pyloudnorm/normalize.py:62: UserWarning: Possible clipped samples in output.\n",
      "  warnings.warn(\"Possible clipped samples in output.\")\n"
     ]
    },
    {
     "name": "stdout",
     "output_type": "stream",
     "text": [
      "WhiteNoise is 93dB. The PEAQ value is -0.269\n",
      "WhiteNoise is 94dB. The PEAQ value is -0.272\n"
     ]
    },
    {
     "name": "stderr",
     "output_type": "stream",
     "text": [
      "/root/anaconda3/lib/python3.11/site-packages/pyloudnorm/normalize.py:62: UserWarning: Possible clipped samples in output.\n",
      "  warnings.warn(\"Possible clipped samples in output.\")\n",
      "/root/anaconda3/lib/python3.11/site-packages/pyloudnorm/normalize.py:62: UserWarning: Possible clipped samples in output.\n",
      "  warnings.warn(\"Possible clipped samples in output.\")\n"
     ]
    },
    {
     "name": "stdout",
     "output_type": "stream",
     "text": [
      "WhiteNoise is 95dB. The PEAQ value is -0.271\n",
      "WhiteNoise is 96dB. The PEAQ value is -0.269\n"
     ]
    },
    {
     "name": "stderr",
     "output_type": "stream",
     "text": [
      "/root/anaconda3/lib/python3.11/site-packages/pyloudnorm/normalize.py:62: UserWarning: Possible clipped samples in output.\n",
      "  warnings.warn(\"Possible clipped samples in output.\")\n",
      "/root/anaconda3/lib/python3.11/site-packages/pyloudnorm/normalize.py:62: UserWarning: Possible clipped samples in output.\n",
      "  warnings.warn(\"Possible clipped samples in output.\")\n"
     ]
    },
    {
     "name": "stdout",
     "output_type": "stream",
     "text": [
      "WhiteNoise is 97dB. The PEAQ value is -0.269\n",
      "WhiteNoise is 98dB. The PEAQ value is -0.272\n"
     ]
    },
    {
     "name": "stderr",
     "output_type": "stream",
     "text": [
      "/root/anaconda3/lib/python3.11/site-packages/pyloudnorm/normalize.py:62: UserWarning: Possible clipped samples in output.\n",
      "  warnings.warn(\"Possible clipped samples in output.\")\n",
      "/root/anaconda3/lib/python3.11/site-packages/pyloudnorm/normalize.py:62: UserWarning: Possible clipped samples in output.\n",
      "  warnings.warn(\"Possible clipped samples in output.\")\n"
     ]
    },
    {
     "name": "stdout",
     "output_type": "stream",
     "text": [
      "WhiteNoise is 99dB. The PEAQ value is -0.269\n",
      "Clipping percentage is 1%. The PEAQ value is -0.305\n",
      "Clipping percentage is 2%. The PEAQ value is -0.356\n",
      "Clipping percentage is 3%. The PEAQ value is -0.411\n",
      "Clipping percentage is 4%. The PEAQ value is -0.478\n",
      "Clipping percentage is 5%. The PEAQ value is -0.621\n",
      "Clipping percentage is 6%. The PEAQ value is -0.721\n",
      "Clipping percentage is 7%. The PEAQ value is -0.838\n",
      "Clipping percentage is 8%. The PEAQ value is -0.938\n",
      "Clipping percentage is 9%. The PEAQ value is -1.073\n",
      "Clipping percentage is 10%. The PEAQ value is -1.214\n",
      "Clipping percentage is 11%. The PEAQ value is -1.382\n",
      "Clipping percentage is 12%. The PEAQ value is -1.551\n",
      "Clipping percentage is 13%. The PEAQ value is -1.674\n",
      "Clipping percentage is 14%. The PEAQ value is -1.820\n",
      "Clipping percentage is 15%. The PEAQ value is -2.061\n",
      "Clipping percentage is 16%. The PEAQ value is -2.244\n",
      "Clipping percentage is 17%. The PEAQ value is -2.376\n",
      "Clipping percentage is 18%. The PEAQ value is -2.470\n",
      "Clipping percentage is 19%. The PEAQ value is -2.706\n",
      "Clipping percentage is 20%. The PEAQ value is -2.820\n",
      "Clipping percentage is 21%. The PEAQ value is -2.905\n",
      "Clipping percentage is 22%. The PEAQ value is -3.017\n",
      "Clipping percentage is 23%. The PEAQ value is -3.065\n",
      "Clipping percentage is 24%. The PEAQ value is -3.165\n",
      "Clipping percentage is 25%. The PEAQ value is -3.180\n",
      "Clipping percentage is 26%. The PEAQ value is -3.193\n",
      "Clipping percentage is 27%. The PEAQ value is -3.302\n",
      "Clipping percentage is 28%. The PEAQ value is -3.307\n",
      "Clipping percentage is 29%. The PEAQ value is -3.319\n",
      "Clipping percentage is 30%. The PEAQ value is -3.337\n",
      "Clipping percentage is 31%. The PEAQ value is -3.345\n",
      "Clipping percentage is 32%. The PEAQ value is -3.398\n",
      "Clipping percentage is 33%. The PEAQ value is -3.398\n",
      "Clipping percentage is 34%. The PEAQ value is -3.443\n",
      "Clipping percentage is 35%. The PEAQ value is -3.433\n",
      "Clipping percentage is 36%. The PEAQ value is -3.448\n",
      "Clipping percentage is 37%. The PEAQ value is -3.461\n",
      "Clipping percentage is 38%. The PEAQ value is -3.479\n",
      "Clipping percentage is 39%. The PEAQ value is -3.478\n",
      "Clipping percentage is 40%. The PEAQ value is -3.478\n",
      "Clipping percentage is 41%. The PEAQ value is -3.505\n",
      "Clipping percentage is 42%. The PEAQ value is -3.517\n",
      "Clipping percentage is 43%. The PEAQ value is -3.496\n",
      "Clipping percentage is 44%. The PEAQ value is -3.529\n",
      "Clipping percentage is 45%. The PEAQ value is -3.547\n",
      "Clipping percentage is 46%. The PEAQ value is -3.546\n",
      "Clipping percentage is 47%. The PEAQ value is -3.562\n",
      "Clipping percentage is 48%. The PEAQ value is -3.576\n",
      "Clipping percentage is 49%. The PEAQ value is -3.588\n",
      "Clipping percentage is 50%. The PEAQ value is -3.593\n",
      "Clipping percentage is 51%. The PEAQ value is -3.579\n",
      "Clipping percentage is 52%. The PEAQ value is -3.604\n",
      "Clipping percentage is 53%. The PEAQ value is -3.630\n",
      "Clipping percentage is 54%. The PEAQ value is -3.640\n",
      "Clipping percentage is 55%. The PEAQ value is -3.637\n",
      "Clipping percentage is 56%. The PEAQ value is -3.645\n",
      "Clipping percentage is 57%. The PEAQ value is -3.666\n",
      "Clipping percentage is 58%. The PEAQ value is -3.666\n",
      "Clipping percentage is 59%. The PEAQ value is -3.675\n",
      "Clipping percentage is 60%. The PEAQ value is -3.670\n",
      "Clipping percentage is 61%. The PEAQ value is -3.685\n",
      "Clipping percentage is 62%. The PEAQ value is -3.690\n",
      "Clipping percentage is 63%. The PEAQ value is -3.706\n",
      "Clipping percentage is 64%. The PEAQ value is -3.702\n",
      "Clipping percentage is 65%. The PEAQ value is -3.693\n",
      "Clipping percentage is 66%. The PEAQ value is -3.716\n",
      "Clipping percentage is 67%. The PEAQ value is -3.719\n",
      "Clipping percentage is 68%. The PEAQ value is -3.712\n",
      "Clipping percentage is 69%. The PEAQ value is -3.737\n",
      "Clipping percentage is 70%. The PEAQ value is -3.738\n",
      "Clipping percentage is 71%. The PEAQ value is -3.737\n",
      "Clipping percentage is 72%. The PEAQ value is -3.742\n",
      "Clipping percentage is 73%. The PEAQ value is -3.743\n",
      "Clipping percentage is 74%. The PEAQ value is -3.749\n",
      "Clipping percentage is 75%. The PEAQ value is -3.747\n",
      "Clipping percentage is 76%. The PEAQ value is -3.750\n",
      "Clipping percentage is 77%. The PEAQ value is -3.754\n",
      "Clipping percentage is 78%. The PEAQ value is -3.763\n",
      "Clipping percentage is 79%. The PEAQ value is -3.766\n",
      "Clipping percentage is 80%. The PEAQ value is -3.756\n",
      "Clipping percentage is 81%. The PEAQ value is -3.768\n",
      "Clipping percentage is 82%. The PEAQ value is -3.777\n",
      "Clipping percentage is 83%. The PEAQ value is -3.783\n",
      "Clipping percentage is 84%. The PEAQ value is -3.783\n",
      "Clipping percentage is 85%. The PEAQ value is -3.793\n",
      "Clipping percentage is 86%. The PEAQ value is -3.795\n",
      "Clipping percentage is 87%. The PEAQ value is -3.801\n",
      "Clipping percentage is 88%. The PEAQ value is -3.803\n",
      "Clipping percentage is 89%. The PEAQ value is -3.802\n",
      "Clipping percentage is 90%. The PEAQ value is -3.824\n",
      "Clipping percentage is 91%. The PEAQ value is -3.822\n",
      "Clipping percentage is 92%. The PEAQ value is -3.826\n",
      "Clipping percentage is 93%. The PEAQ value is -3.834\n",
      "Clipping percentage is 94%. The PEAQ value is -3.836\n",
      "Clipping percentage is 95%. The PEAQ value is -3.839\n",
      "Clipping percentage is 96%. The PEAQ value is -3.851\n",
      "Clipping percentage is 97%. The PEAQ value is -3.858\n",
      "Clipping percentage is 98%. The PEAQ value is -3.853\n",
      "Clipping percentage is 99%. The PEAQ value is -3.855\n"
     ]
    },
    {
     "name": "stderr",
     "output_type": "stream",
     "text": [
      "/root/anaconda3/lib/python3.11/site-packages/pyloudnorm/normalize.py:62: UserWarning: Possible clipped samples in output.\n",
      "  warnings.warn(\"Possible clipped samples in output.\")\n",
      "/root/anaconda3/lib/python3.11/site-packages/pyloudnorm/normalize.py:62: UserWarning: Possible clipped samples in output.\n",
      "  warnings.warn(\"Possible clipped samples in output.\")\n"
     ]
    },
    {
     "name": "stdout",
     "output_type": "stream",
     "text": [
      "Limiter Threshold is 1B. The PEAQ value is -0.269\n",
      "Limiter Threshold is 2B. The PEAQ value is -0.272\n"
     ]
    },
    {
     "name": "stderr",
     "output_type": "stream",
     "text": [
      "/root/anaconda3/lib/python3.11/site-packages/pyloudnorm/normalize.py:62: UserWarning: Possible clipped samples in output.\n",
      "  warnings.warn(\"Possible clipped samples in output.\")\n"
     ]
    },
    {
     "name": "stdout",
     "output_type": "stream",
     "text": [
      "Limiter Threshold is 3B. The PEAQ value is -0.270\n",
      "Limiter Threshold is 4B. The PEAQ value is -0.280\n",
      "Limiter Threshold is 5B. The PEAQ value is -0.286\n",
      "Limiter Threshold is 6B. The PEAQ value is -0.302\n",
      "Limiter Threshold is 7B. The PEAQ value is -0.343\n",
      "Limiter Threshold is 8B. The PEAQ value is -0.420\n",
      "Limiter Threshold is 9B. The PEAQ value is -0.546\n",
      "Limiter Threshold is 10B. The PEAQ value is -0.689\n",
      "Limiter Threshold is 11B. The PEAQ value is -1.028\n",
      "Limiter Threshold is 12B. The PEAQ value is -1.603\n",
      "Limiter Threshold is 13B. The PEAQ value is -2.124\n",
      "Limiter Threshold is 14B. The PEAQ value is -2.451\n",
      "Limiter Threshold is 15B. The PEAQ value is -2.607\n",
      "Limiter Threshold is 16B. The PEAQ value is -2.833\n",
      "Limiter Threshold is 17B. The PEAQ value is -2.948\n",
      "Limiter Threshold is 18B. The PEAQ value is -2.958\n",
      "Limiter Threshold is 19B. The PEAQ value is -3.055\n",
      "Limiter Threshold is 20B. The PEAQ value is -3.056\n",
      "Limiter Threshold is 21B. The PEAQ value is -3.117\n",
      "Limiter Threshold is 22B. The PEAQ value is -3.174\n",
      "Limiter Threshold is 23B. The PEAQ value is -3.241\n",
      "Limiter Threshold is 24B. The PEAQ value is -3.219\n",
      "Limiter Threshold is 25B. The PEAQ value is -3.280\n",
      "Limiter Threshold is 26B. The PEAQ value is -3.283\n",
      "Limiter Threshold is 27B. The PEAQ value is -3.279\n",
      "Limiter Threshold is 28B. The PEAQ value is -3.307\n",
      "Limiter Threshold is 29B. The PEAQ value is -3.300\n",
      "Limiter Threshold is 30B. The PEAQ value is -3.310\n",
      "Limiter Threshold is 31B. The PEAQ value is -3.320\n",
      "Limiter Threshold is 32B. The PEAQ value is -3.313\n",
      "Limiter Threshold is 33B. The PEAQ value is -3.312\n",
      "Limiter Threshold is 34B. The PEAQ value is -3.316\n",
      "Limiter Threshold is 35B. The PEAQ value is -3.315\n",
      "Limiter Threshold is 36B. The PEAQ value is -3.310\n",
      "Limiter Threshold is 37B. The PEAQ value is -3.317\n",
      "Limiter Threshold is 38B. The PEAQ value is -3.336\n",
      "Limiter Threshold is 39B. The PEAQ value is -3.339\n",
      "Limiter Threshold is 40B. The PEAQ value is -3.326\n",
      "Limiter Threshold is 41B. The PEAQ value is -3.303\n",
      "Limiter Threshold is 42B. The PEAQ value is -3.316\n",
      "Limiter Threshold is 43B. The PEAQ value is -3.339\n",
      "Limiter Threshold is 44B. The PEAQ value is -3.336\n",
      "Limiter Threshold is 45B. The PEAQ value is -3.324\n",
      "Limiter Threshold is 46B. The PEAQ value is -3.321\n",
      "Limiter Threshold is 47B. The PEAQ value is -3.322\n",
      "Limiter Threshold is 48B. The PEAQ value is -3.319\n",
      "Limiter Threshold is 49B. The PEAQ value is -3.320\n",
      "Limiter Threshold is 50B. The PEAQ value is -3.326\n",
      "Limiter Threshold is 51B. The PEAQ value is -3.320\n",
      "Limiter Threshold is 52B. The PEAQ value is -3.335\n",
      "Limiter Threshold is 53B. The PEAQ value is -3.329\n",
      "Limiter Threshold is 54B. The PEAQ value is -3.322\n",
      "Limiter Threshold is 55B. The PEAQ value is -3.321\n",
      "Limiter Threshold is 56B. The PEAQ value is -3.333\n",
      "Limiter Threshold is 57B. The PEAQ value is -3.327\n",
      "Limiter Threshold is 58B. The PEAQ value is -3.333\n",
      "Limiter Threshold is 59B. The PEAQ value is -3.334\n",
      "Limiter Threshold is 60B. The PEAQ value is -3.342\n",
      "Limiter Threshold is 61B. The PEAQ value is -3.334\n",
      "Limiter Threshold is 62B. The PEAQ value is -3.331\n",
      "Limiter Threshold is 63B. The PEAQ value is -3.331\n",
      "Limiter Threshold is 64B. The PEAQ value is -3.336\n",
      "Limiter Threshold is 65B. The PEAQ value is -1.601\n",
      "Limiter Threshold is 66B. The PEAQ value is -1.603\n",
      "Limiter Threshold is 67B. The PEAQ value is -1.604\n",
      "Limiter Threshold is 68B. The PEAQ value is -1.604\n",
      "Limiter Threshold is 69B. The PEAQ value is -1.605\n",
      "Limiter Threshold is 70B. The PEAQ value is -1.603\n",
      "Limiter Threshold is 71B. The PEAQ value is -1.601\n",
      "Limiter Threshold is 72B. The PEAQ value is -1.598\n",
      "Limiter Threshold is 73B. The PEAQ value is -1.596\n",
      "Limiter Threshold is 74B. The PEAQ value is -1.595\n",
      "Notihing out, possible something wrong in the lame or peaq\n",
      "Limiter Threshold is 75B. The PEAQ value is 0.0\n",
      "Notihing out, possible something wrong in the lame or peaq\n",
      "Limiter Threshold is 76B. The PEAQ value is 0.0\n",
      "Notihing out, possible something wrong in the lame or peaq\n",
      "Limiter Threshold is 77B. The PEAQ value is 0.0\n",
      "Notihing out, possible something wrong in the lame or peaq\n",
      "Limiter Threshold is 78B. The PEAQ value is 0.0\n",
      "Notihing out, possible something wrong in the lame or peaq\n",
      "Limiter Threshold is 79B. The PEAQ value is 0.0\n",
      "Notihing out, possible something wrong in the lame or peaq\n",
      "Limiter Threshold is 80B. The PEAQ value is 0.0\n",
      "Notihing out, possible something wrong in the lame or peaq\n",
      "Limiter Threshold is 81B. The PEAQ value is 0.0\n",
      "Notihing out, possible something wrong in the lame or peaq\n",
      "Limiter Threshold is 82B. The PEAQ value is 0.0\n",
      "Notihing out, possible something wrong in the lame or peaq\n",
      "Limiter Threshold is 83B. The PEAQ value is 0.0\n",
      "Notihing out, possible something wrong in the lame or peaq\n",
      "Limiter Threshold is 84B. The PEAQ value is 0.0\n",
      "Notihing out, possible something wrong in the lame or peaq\n",
      "Limiter Threshold is 85B. The PEAQ value is 0.0\n",
      "Notihing out, possible something wrong in the lame or peaq\n",
      "Limiter Threshold is 86B. The PEAQ value is 0.0\n",
      "Notihing out, possible something wrong in the lame or peaq\n",
      "Limiter Threshold is 87B. The PEAQ value is 0.0\n",
      "Notihing out, possible something wrong in the lame or peaq\n",
      "Limiter Threshold is 88B. The PEAQ value is 0.0\n",
      "Notihing out, possible something wrong in the lame or peaq\n",
      "Limiter Threshold is 89B. The PEAQ value is 0.0\n",
      "Notihing out, possible something wrong in the lame or peaq\n",
      "Limiter Threshold is 90B. The PEAQ value is 0.0\n",
      "Notihing out, possible something wrong in the lame or peaq\n",
      "Limiter Threshold is 91B. The PEAQ value is 0.0\n",
      "Notihing out, possible something wrong in the lame or peaq\n",
      "Limiter Threshold is 92B. The PEAQ value is 0.0\n",
      "Notihing out, possible something wrong in the lame or peaq\n",
      "Limiter Threshold is 93B. The PEAQ value is 0.0\n",
      "Notihing out, possible something wrong in the lame or peaq\n",
      "Limiter Threshold is 94B. The PEAQ value is 0.0\n",
      "Notihing out, possible something wrong in the lame or peaq\n",
      "Limiter Threshold is 95B. The PEAQ value is 0.0\n",
      "Notihing out, possible something wrong in the lame or peaq\n",
      "Limiter Threshold is 96B. The PEAQ value is 0.0\n",
      "Notihing out, possible something wrong in the lame or peaq\n",
      "Limiter Threshold is 97B. The PEAQ value is 0.0\n",
      "Notihing out, possible something wrong in the lame or peaq\n",
      "Limiter Threshold is 98B. The PEAQ value is 0.0\n",
      "Notihing out, possible something wrong in the lame or peaq\n",
      "Limiter Threshold is 99B. The PEAQ value is 0.0\n"
     ]
    }
   ],
   "source": [
    "data_point_alterWN = []\n",
    "for x in range(1,100):\n",
    "    filename = f\"Audio_Mixing_LT{str(x)}.wav\"\n",
    "    WN_Gener_Audio = Noise_Generator_MP3.TestNoisedOnlyFile([x,0.0,0.0],filename)\n",
    "    PEAQ_score = Noise_Generator_MP3.MeasurePEAQOutputsVsRef(WN_Gener_Audio,64,Referece_File)\n",
    "    print(f\"WhiteNoise is {x}dB. The PEAQ value is {PEAQ_score}\")\n",
    "#    AK_R_score = round(CaculateAK_roughness(fileUrl),2)\n",
    "    data_point_alterWN.append(PEAQ_score)\n",
    "\n",
    "data_point_alterCP = []\n",
    "for x in range(1,100):\n",
    "    filename = f\"Audio_Mixing_LT{str(x)}.wav\"\n",
    "    CP_Gener_Audio = Noise_Generator_MP3.TestNoisedOnlyFile([0,x,0.0],filename)\n",
    "    PEAQ_score = Noise_Generator_MP3.MeasurePEAQOutputsVsRef(CP_Gener_Audio,64,Referece_File)\n",
    "    print(f\"Clipping percentage is {x}%. The PEAQ value is {PEAQ_score}\")\n",
    "#    AK_R_score = round(CaculateAK_roughness(fileUrl),2)\n",
    "    data_point_alterCP.append(PEAQ_score)\n",
    "\n",
    "data_point_alterLT = []\n",
    "for x in range(1,100):\n",
    "    filename = f\"Audio_Mixing_LT{str(x)}.wav\"\n",
    "    LT_Gener_Audio = Noise_Generator_MP3.TestNoisedOnlyFile([0,0.0,x],filename)\n",
    "    PEAQ_score = Noise_Generator_MP3.MeasurePEAQOutputsVsRef(LT_Gener_Audio,64,Referece_File)\n",
    "    print(f\"Limiter Threshold is {x}B. The PEAQ value is {PEAQ_score}\")\n",
    "#    AK_R_score = round(CaculateAK_roughness(fileUrl),2)\n",
    "    data_point_alterLT.append(PEAQ_score)"
   ]
  },
  {
   "cell_type": "code",
   "execution_count": null,
   "id": "1f983af4",
   "metadata": {},
   "outputs": [],
   "source": [
    "[data_point_alterLT[i] for i in np.arange(1,64,1)]"
   ]
  },
  {
   "cell_type": "code",
   "execution_count": 6,
   "id": "ac674022",
   "metadata": {},
   "outputs": [],
   "source": [
    "df_WN = pd.DataFrame({'WhiteNoise SNR': np.arange(1,100,1), 'score': data_point_alterWN})\n",
    "df_WN = df_WN.apply(pd.to_numeric, errors='coerce')\n",
    "df_CP = pd.DataFrame({'Clipping Percentage(%)': np.arange(1,100,1), 'score': data_point_alterCP})\n",
    "df_CP = df_CP.apply(pd.to_numeric, errors='coerce')\n",
    "df_LT = pd.DataFrame({'Limiter Threshold': np.arange(1,64,1), 'score': [data_point_alterLT[i] for i in np.arange(1,64,1)]})\n",
    "df_LT = df_LT.apply(pd.to_numeric, errors='coerce')\n",
    "# Print the DataFrame to verify the conversion\n",
    "#print(df)"
   ]
  },
  {
   "cell_type": "code",
   "execution_count": null,
   "id": "3a8159f6",
   "metadata": {},
   "outputs": [],
   "source": [
    "df_CP"
   ]
  },
  {
   "cell_type": "code",
   "execution_count": 18,
   "id": "2af9aefd",
   "metadata": {},
   "outputs": [
    {
     "data": {
      "image/png": "[encoded data removed]",
      "text/plain": [
       "<Figure size 1200x300 with 3 Axes>"
      ]
     },
     "metadata": {},
     "output_type": "display_data"
    }
   ],
   "source": [
    "import seaborn as sns\n",
    "import matplotlib.pyplot as plt\n",
    "\n",
    "\n",
    "\n",
    "# Create a figure and a set of subplots\n",
    "fig, axes = plt.subplots(1, 3, figsize=(12, 3))  # 3 rows, 1 column, set the figure size\n",
    "sns.set_style(\"darkgrid\", {\"grid.color\": \".6\", \"grid.linestyle\": \":\"})\n",
    "# Plot on the first subplot\n",
    "sns.lineplot(data=df_WN, x='WhiteNoise SNR', y='score', ax=axes[0])\n",
    "#axes[0].set_title('DataFrame 1')\n",
    "axes[0].set_xlabel('White Noise SNR(dB)')\n",
    "axes[0].set_ylabel('ODG Score')\n",
    "\n",
    "# Plot on the second subplot\n",
    "sns.lineplot(data=df_CP, x='Clipping Percentage(%)', y='score', ax=axes[1])\n",
    "#axes[1].set_title('DataFrame 2')\n",
    "axes[1].set_xlabel('Clipping Percentage(%)')\n",
    "axes[1].set_ylabel('ODG Score')\n",
    "\n",
    "# Plot on the third subplot\n",
    "sns.lineplot(data=df_LT, x='Limiter Threshold', y='score', ax=axes[2])\n",
    "#axes[2].set_title('DataFrame 3')\n",
    "axes[2].set_xlabel('Limiter Threshold(dB)')\n",
    "axes[2].set_ylabel('ODG Score')\n",
    "#fig.suptitle('Tweaking the ')\n",
    "# Adjust layout\n",
    "plt.tight_layout()\n",
    "\n",
    "# Show the plot\n",
    "plt.show()\n"
   ]
  },
  {
   "cell_type": "code",
   "execution_count": null,
   "id": "c3127509",
   "metadata": {},
   "outputs": [],
   "source": []
  }
 ],
 "metadata": {
  "kernelspec": {
   "display_name": "Python 3 (ipykernel)",
   "language": "python",
   "name": "python3"
  },
  "language_info": {
   "codemirror_mode": {
    "name": "ipython",
    "version": 3
   },
   "file_extension": ".py",
   "mimetype": "text/x-python",
   "name": "python",
   "nbconvert_exporter": "python",
   "pygments_lexer": "ipython3",
   "version": "3.11.5"
  }
 },
 "nbformat": 4,
 "nbformat_minor": 5
}
